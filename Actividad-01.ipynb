{
 "cells": [
  {
   "cell_type": "markdown",
   "id": "a2e8ad32",
   "metadata": {},
   "source": [
    " # Laboratorio: Eliminación de anomalías de la imagen\n",
    " \n",
    "## Filtro de la Mediana\n",
    "El filtro de la mediana pertenece a los filtros de paso bajo, también conocidos como filtros de suavizado, su objetivo es reducir el ruido y/o efectos que pueden presentarse en una imagen a consecuencia del proceso de captura, digitalización y transmisión. \n",
    "El filtro de la mediana consiste en remplazar el valor de la señal por la estimación de la mediana en una ventana de tamaño finito.  Comúnmente este filtro es utilizado para eliminar ruido impulsivo como el salt & pepper.\n",
    "\n",
    "\n",
    "## Ruido \"Salt & Pepper\"\n",
    "Este tipo de ruido se caracteriza principalmente por cubrir de forma dispersa toda la imagen con una serie de pixeles blancos y negros, suele producirse cuando la señal de la imagen es afectada por intensas y repentinas perturbaciones o impulsos.\n"
   ]
  },
  {
   "cell_type": "code",
   "execution_count": 1,
   "id": "e8240281",
   "metadata": {},
   "outputs": [],
   "source": [
    "# Libreria openCV\n",
    "import cv2\n",
    "# Libreria NumPy\n",
    "import numpy as np\n",
    "#Liberia OS\n",
    "import os"
   ]
  },
  {
   "cell_type": "markdown",
   "id": "944f1921",
   "metadata": {},
   "source": [
    "### Función para leer una matriz subset de la \"matrix\" pasada como parámetro del tamaño especificado\n",
    "En caso de que la \"matrix\" original ya no contenga mas valores, los valores restantes en la matriz nueva se quedaran con el valor -1"
   ]
  },
  {
   "cell_type": "code",
   "execution_count": 2,
   "id": "b1684a6e",
   "metadata": {},
   "outputs": [],
   "source": [
    "def getSubMatrix(matrix, fromColumnIndex, toColumnIndex, fromRowIndex, toRowIndex):\n",
    "    # Crea una lista conteniendo \"colsSize\" listas y cada una con \"rowsSize\" e inicializa cada elemento con -1\n",
    "    windowMatrix = [[-1 for x in range(toColumnIndex - fromColumnIndex)] for y in range(toRowIndex - fromRowIndex)]\n",
    "    totalColumns = matrix.shape[0]\n",
    "    totalRows = matrix.shape[1]\n",
    "\n",
    "    for x in range(fromColumnIndex, toColumnIndex):\n",
    "        if totalColumns > x:\n",
    "            for y in range(fromRowIndex, toRowIndex):\n",
    "                if totalRows > y:\n",
    "                    windowMatrix[x - fromColumnIndex][y - fromRowIndex] = matrix[x][y]\n",
    "    \n",
    "    return windowMatrix"
   ]
  },
  {
   "cell_type": "markdown",
   "id": "73d175f6",
   "metadata": {},
   "source": [
    "### Funcion que recibe una matriz de elementos, lo convierte en un arreglo unidimensional, elimina los valores -1 y calcula la mediana de ese arreglo"
   ]
  },
  {
   "cell_type": "code",
   "execution_count": 3,
   "id": "0a2db5de",
   "metadata": {},
   "outputs": [],
   "source": [
    "def calculateMedianForMatrix(matrix):\n",
    "    # Convierte el arreglo bidimensional en un arreglo plano\n",
    "    flattenWindow = np.concatenate(matrix)\n",
    "\n",
    "    # Elimina los elementos -1 que puedan existir dentro del arreglo para que no interfiera con el calculo de la \n",
    "    # mediana\n",
    "    flattenWindow = [i for i in flattenWindow if i != -1]\n",
    "    \n",
    "    # Ordena el arreglo\n",
    "    flattenWindow.sort()\n",
    "    \n",
    "    # Obtiene el indice del centro\n",
    "    middleIndex = len(flattenWindow) // 2\n",
    "    \n",
    "    if len(flattenWindow) % 2 == 0:\n",
    "        # Cuando el numero de elementos del arreglo es par, se calcula la media de los elementos centrales\n",
    "        median = (flattenWindow[middleIndex - 1] + flattenWindow[middleIndex])//2\n",
    "    else:\n",
    "        # Cuando el numero de elementos del arreglo es impar, el elemento del centro es la mediana\n",
    "        median = flattenWindow[middleIndex]\n",
    "        \n",
    "    return median"
   ]
  },
  {
   "cell_type": "markdown",
   "id": "5df804cc",
   "metadata": {},
   "source": [
    "### Función que escribe el valor en la \"matrix\" en el rango especificado"
   ]
  },
  {
   "cell_type": "code",
   "execution_count": 4,
   "id": "61b31481",
   "metadata": {},
   "outputs": [],
   "source": [
    "def setValueInMatrix(matrix, value, fromColumnIndex, toColumnIndex, fromRowIndex, toRowIndex):\n",
    "    totalColumns = matrix.shape[0]\n",
    "    totalRows = matrix.shape[1]\n",
    "\n",
    "    for x in range(fromColumnIndex, toColumnIndex):\n",
    "        if totalColumns > x:\n",
    "            for y in range(fromRowIndex, toRowIndex):\n",
    "                if totalRows > y:\n",
    "                    matrix[x][y] = value\n",
    "    \n",
    "    return matrix"
   ]
  },
  {
   "cell_type": "markdown",
   "id": "82f294a8",
   "metadata": {},
   "source": [
    "### Función que regresa una lista ordenada alfabéticamente de archivos con la extensión especificada en el directorio especificado"
   ]
  },
  {
   "cell_type": "code",
   "execution_count": 5,
   "id": "8918c5f0",
   "metadata": {},
   "outputs": [],
   "source": [
    "def getTestPicturesInPath(path, extension):\n",
    "    pictures = []\n",
    "    for file in os.listdir(path):\n",
    "        if file.endswith(extension):\n",
    "            pictures.append(os.path.join(path, file))\n",
    "    \n",
    "    pictures.sort()\n",
    "    return pictures"
   ]
  },
  {
   "cell_type": "markdown",
   "id": "a94e337a",
   "metadata": {},
   "source": [
    "### Inicia lógica principal"
   ]
  },
  {
   "cell_type": "code",
   "execution_count": 6,
   "id": "981a1046",
   "metadata": {},
   "outputs": [],
   "source": [
    "# Declaracion de la lista que contendra la lista de las listas de la imagen original y la imagen ya filtrada \n",
    "pictureList = []"
   ]
  },
  {
   "cell_type": "code",
   "execution_count": 7,
   "id": "27417fed",
   "metadata": {},
   "outputs": [
    {
     "name": "stdout",
     "output_type": "stream",
     "text": [
      "Imagenes a procesar: 9\n"
     ]
    }
   ],
   "source": [
    "# Obtiene e imprime la lista de imagenes jpeg dentro del directorio pictures/\n",
    "picturePathList = getTestPicturesInPath(\"pictures/\", \".jpeg\")\n",
    "print(\"Imagenes a procesar: \" + str(len(picturePathList)))"
   ]
  },
  {
   "cell_type": "code",
   "execution_count": 8,
   "id": "6b884b48",
   "metadata": {},
   "outputs": [
    {
     "name": "stdout",
     "output_type": "stream",
     "text": [
      "Procesando: pictures/01.jpeg\n",
      "Procesando: pictures/02.jpeg\n",
      "Procesando: pictures/03.jpeg\n",
      "Procesando: pictures/04.jpeg\n",
      "Procesando: pictures/05.jpeg\n",
      "Procesando: pictures/06.jpeg\n",
      "Procesando: pictures/07.jpeg\n",
      "Procesando: pictures/08.jpeg\n",
      "Procesando: pictures/09.jpeg\n",
      "Mostrando imagen: pictures/01.jpeg\n",
      "Mostrando imagen: pictures/02.jpeg\n",
      "Mostrando imagen: pictures/03.jpeg\n",
      "Mostrando imagen: pictures/04.jpeg\n",
      "Mostrando imagen: pictures/05.jpeg\n",
      "Mostrando imagen: pictures/06.jpeg\n",
      "Mostrando imagen: pictures/07.jpeg\n",
      "Mostrando imagen: pictures/08.jpeg\n",
      "Mostrando imagen: pictures/09.jpeg\n"
     ]
    }
   ],
   "source": [
    "# Ciclo para procesar cada una de las imagenes\n",
    "for picturePath in picturePathList:\n",
    "    print(\"Procesando: \" + picturePath)\n",
    "\n",
    "    # Lee la imagen en escala de grises (esta variable no se modificara)\n",
    "    img = cv2.imread(picturePath, cv2.IMREAD_GRAYSCALE)\n",
    "    # Lee la imagen en escala de grises (a esta variable es a la que se le haran modificaciones)\n",
    "    cleanImg = cv2.imread(picturePath, cv2.IMREAD_GRAYSCALE)\n",
    "\n",
    "    # Obtiene el numero de columnas y filas\n",
    "    cols = img.shape[0]\n",
    "    rows = img.shape[1]\n",
    "\n",
    "    # El tamaño de la venta se asigna a 5 para hacer una matriz de 5x5\n",
    "    windowSize = 5\n",
    "\n",
    "    # Itera las columnas de la matriz de la imagen original con un step = 1\n",
    "    for x in range(0, cols):\n",
    "        # Define la variable con el valor de x + windowSize\n",
    "        toColumnIndex = x + windowSize\n",
    "\n",
    "        # Itera las filas de la matriz de la imagen original con un step = 1\n",
    "        for y in range(0, rows):\n",
    "            #Define la variable con el valor de y + windowSize\n",
    "            toRowIndex = y + windowSize\n",
    "\n",
    "            # Obtiene la sub matriz de windowSize x windowSize (3x3) de la matriz original\n",
    "            matrixWindow = getSubMatrix(img, x, toColumnIndex, y, toRowIndex)\n",
    "\n",
    "            # Calcula la mediana\n",
    "            median = calculateMedianForMatrix(matrixWindow)\n",
    "\n",
    "            # Guarda el valor de la mediana en la variable cleanImg\n",
    "            cleanImg = setValueInMatrix(cleanImg, median, x, toColumnIndex, y, toRowIndex)\n",
    "\n",
    "    # Agrega la imagen original y la imagen filtrada a la lista\n",
    "    pictureList.append([img, cleanImg])\n",
    "    \n",
    "# Itera en paralelo las listas picturePathList(La lista de los paths de las imagens) y PictureList \n",
    "# (La lista de las imagenes limpias y originales)\n",
    "for picturePath, filteredPicture in zip(picturePathList, pictureList):\n",
    "    print(\"Mostrando imagen: \" + picturePath)\n",
    "    \n",
    "    # Concatena la imagen original con la imagen filtrada para ser mostrada en una venta, una al lado de otra\n",
    "    compare = np.concatenate((filteredPicture[0], filteredPicture[1]), axis=1)\n",
    "    \n",
    "    # Muestra la imagen original a la izquierda y la imagen filtrada a la derecha\n",
    "    cv2.imshow(picturePath, compare)\n",
    "\n",
    "    # Hace una pausa hasta que se presione cualquier tecla    \n",
    "    cv2.waitKey(0)\n",
    "    \n",
    "    # Cierra la ventana\n",
    "    cv2.destroyWindow(picturePath)\n"
   ]
  }
 ],
 "metadata": {
  "interpreter": {
   "hash": "137d024e6e8dcbcb6ad4ca1834e3057110dca67677bd0661ff41e9793a8346cd"
  },
  "kernelspec": {
   "display_name": "Python 3",
   "language": "python",
   "name": "python3"
  },
  "language_info": {
   "codemirror_mode": {
    "name": "ipython",
    "version": 3
   },
   "file_extension": ".py",
   "mimetype": "text/x-python",
   "name": "python",
   "nbconvert_exporter": "python",
   "pygments_lexer": "ipython3",
   "version": "3.8.10"
  }
 },
 "nbformat": 4,
 "nbformat_minor": 5
}
